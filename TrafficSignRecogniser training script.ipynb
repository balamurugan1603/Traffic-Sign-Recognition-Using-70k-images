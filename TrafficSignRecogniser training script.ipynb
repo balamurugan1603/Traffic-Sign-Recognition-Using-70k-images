{
 "cells": [
  {
   "cell_type": "code",
   "execution_count": 1,
   "id": "aggressive-demonstration",
   "metadata": {
    "_cell_guid": "b1076dfc-b9ad-4769-8c92-a6c4dae69d19",
    "_uuid": "8f2839f25d086af736a60e9eeb907d3b93b6e0e5",
    "execution": {
     "iopub.execute_input": "2021-05-31T07:54:33.266570Z",
     "iopub.status.busy": "2021-05-31T07:54:33.265743Z",
     "iopub.status.idle": "2021-05-31T07:54:39.498015Z",
     "shell.execute_reply": "2021-05-31T07:54:39.497277Z"
    },
    "papermill": {
     "duration": 6.253258,
     "end_time": "2021-05-31T07:54:39.498195",
     "exception": false,
     "start_time": "2021-05-31T07:54:33.244937",
     "status": "completed"
    },
    "tags": []
   },
   "outputs": [],
   "source": [
    "# Importing modules"
    "import tensorflow as tf\n",
    "from tensorflow.keras.preprocessing.image import ImageDataGenerator\n",
    "from tensorflow.keras.layers import Conv2D, Flatten, MaxPool2D, Dense\n",
    "from tensorflow.keras import Sequential\n",
    "from tensorflow.keras.models import save_model\n",
    "from keras.callbacks import EarlyStopping\n",
    "import matplotlib.pyplot as plt"
   ]
  },
  {
   "cell_type": "code",
   "execution_count": 2,
   "id": "forbidden-maximum",
   "metadata": {
    "execution": {
     "iopub.execute_input": "2021-05-31T07:54:39.516939Z",
     "iopub.status.busy": "2021-05-31T07:54:39.516286Z",
     "iopub.status.idle": "2021-05-31T07:55:14.392017Z",
     "shell.execute_reply": "2021-05-31T07:55:14.393202Z"
    },
    "papermill": {
     "duration": 34.88893,
     "end_time": "2021-05-31T07:55:14.393477",
     "exception": false,
     "start_time": "2021-05-31T07:54:39.504547",
     "status": "completed"
    },
    "tags": []
   },
   "outputs": [
    {
     "name": "stdout",
     "output_type": "stream",
     "text": [
      "Found 58510 images belonging to 43 classes.\n",
      "Found 14629 images belonging to 43 classes.\n"
     ]
    }
   ],
   "source": [
    "# Instantiating data generators to load images on the go"
    "train_datagen = ImageDataGenerator(rescale=1./255,\n",
    "                             rotation_range=20,\n",
    "                             zoom_range=0.2,\n",
    "                             fill_mode=\"nearest\").flow_from_directory(\"../input/traffic-signs-train-val-split/traffic signs split/train\",\n",
    "                                                                      target_size=(32, 32),\n",
    "                                                                      batch_size=32,\n",
    "                                                                      class_mode=\"categorical\")\n",
    "\n",
    "val_datagen = ImageDataGenerator(rescale=1./255).flow_from_directory(\"../input/traffic-signs-train-val-split/traffic signs split/val\",\n",
    "                                                                     target_size=(32, 32),\n",
    "                                                                     batch_size=32,\n",
    "                                                                     class_mode=\"categorical\")"
   ]
  },
  {
   "cell_type": "code",
   "execution_count": 3,
   "id": "combined-innocent",
   "metadata": {
    "execution": {
     "iopub.execute_input": "2021-05-31T07:55:14.426978Z",
     "iopub.status.busy": "2021-05-31T07:55:14.426073Z",
     "iopub.status.idle": "2021-05-31T07:55:14.431289Z",
     "shell.execute_reply": "2021-05-31T07:55:14.432575Z"
    },
    "papermill": {
     "duration": 0.02765,
     "end_time": "2021-05-31T07:55:14.432767",
     "exception": false,
     "start_time": "2021-05-31T07:55:14.405117",
     "status": "completed"
    },
    "tags": []
   },
   "outputs": [],
   "source": [
    "# Function to create model"
    "def create_model(activation=\"relu\"):\n",
    "    model = Sequential()\n",
    "    model.add(Conv2D(16, (3,3), activation=activation, input_shape=(32, 32, 3)))\n",
    "    model.add(MaxPool2D(2, 2))\n",
    "    model.add(Conv2D(32, (3,3), activation=activation))\n",
    "    model.add(MaxPool2D(2, 2))\n",
    "    model.add(Conv2D(64, (3,3), activation=activation))\n",
    "    model.add(Flatten())\n",
    "    model.add(Dense(512, activation=activation))\n",
    "    model.add(Dense(256, activation=\"tanh\"))\n",
    "    model.add(Dense(128, activation=\"tanh\"))\n",
    "    model.add(Dense(43, activation=\"softmax\"))\n",
    "    model.compile(optimizer=\"adam\", loss=\"categorical_crossentropy\", metrics=[\"accuracy\"])\n",
    "    return model"
   ]
  },
  {
   "cell_type": "code",
   "execution_count": 4,
   "id": "welcome-nudist",
   "metadata": {
    "execution": {
     "iopub.execute_input": "2021-05-31T07:55:14.466985Z",
     "iopub.status.busy": "2021-05-31T07:55:14.466029Z",
     "iopub.status.idle": "2021-05-31T07:55:17.072092Z",
     "shell.execute_reply": "2021-05-31T07:55:17.071590Z"
    },
    "papermill": {
     "duration": 2.628276,
     "end_time": "2021-05-31T07:55:17.072228",
     "exception": false,
     "start_time": "2021-05-31T07:55:14.443952",
     "status": "completed"
    },
    "tags": []
   },
   "outputs": [
    {
     "name": "stdout",
     "output_type": "stream",
     "text": [
      "Model: \"sequential\"\n",
      "_________________________________________________________________\n",
      "Layer (type)                 Output Shape              Param #   \n",
      "=================================================================\n",
      "conv2d (Conv2D)              (None, 30, 30, 16)        448       \n",
      "_________________________________________________________________\n",
      "max_pooling2d (MaxPooling2D) (None, 15, 15, 16)        0         \n",
      "_________________________________________________________________\n",
      "conv2d_1 (Conv2D)            (None, 13, 13, 32)        4640      \n",
      "_________________________________________________________________\n",
      "max_pooling2d_1 (MaxPooling2 (None, 6, 6, 32)          0         \n",
      "_________________________________________________________________\n",
      "conv2d_2 (Conv2D)            (None, 4, 4, 64)          18496     \n",
      "_________________________________________________________________\n",
      "flatten (Flatten)            (None, 1024)              0         \n",
      "_________________________________________________________________\n",
      "dense (Dense)                (None, 512)               524800    \n",
      "_________________________________________________________________\n",
      "dense_1 (Dense)              (None, 256)               131328    \n",
      "_________________________________________________________________\n",
      "dense_2 (Dense)              (None, 128)               32896     \n",
      "_________________________________________________________________\n",
      "dense_3 (Dense)              (None, 43)                5547      \n",
      "=================================================================\n",
      "Total params: 718,155\n",
      "Trainable params: 718,155\n",
      "Non-trainable params: 0\n",
      "_________________________________________________________________\n"
     ]
    }
   ],
   "source": [
    "# Creating and displaying summary of the model"
    "TrafficSignRecogniser = create_model()\n",
    "TrafficSignRecogniser.summary()"
   ]
  },
  {
   "cell_type": "code",
   "execution_count": 5,
   "id": "intended-american",
   "metadata": {
    "execution": {
     "iopub.execute_input": "2021-05-31T07:55:17.093445Z",
     "iopub.status.busy": "2021-05-31T07:55:17.092606Z",
     "iopub.status.idle": "2021-05-31T08:31:46.751249Z",
     "shell.execute_reply": "2021-05-31T08:31:46.750702Z"
    },
    "papermill": {
     "duration": 2189.67094,
     "end_time": "2021-05-31T08:31:46.751436",
     "exception": false,
     "start_time": "2021-05-31T07:55:17.080496",
     "status": "completed"
    },
    "tags": []
   },
   "outputs": [
    {
     "name": "stderr",
     "output_type": "stream",
     "text": [
      "/opt/conda/lib/python3.7/site-packages/tensorflow/python/keras/engine/training.py:1844: UserWarning: `Model.fit_generator` is deprecated and will be removed in a future version. Please use `Model.fit`, which supports generators.\n",
      "  warnings.warn('`Model.fit_generator` is deprecated and '\n"
     ]
    },
    {
     "name": "stdout",
     "output_type": "stream",
     "text": [
      "Epoch 1/20\n",
      "Epoch 2/20\n",
      "Epoch 3/20\n",
      "Epoch 4/20\n",
      "Epoch 5/20\n",
      "Epoch 6/20\n",
      "Epoch 7/20\n",
      "Epoch 8/20\n",
      "Epoch 9/20\n",
      "Epoch 10/20\n",
      "Epoch 11/20\n",
      "Epoch 12/20\n",
      "Epoch 13/20\n",
      "Epoch 14/20\n",
      "Epoch 15/20\n",
      "Epoch 16/20\n",
      "Epoch 17/20\n",
      "Epoch 18/20\n",
      "Epoch 19/20\n",
      "Epoch 20/20\n"
     ]
    }
   ],
   "source": [
    "# Saving training history"
    "es = EarlyStopping(monitor='val_loss', mode='min', verbose=100, patience=3)\n",
    "history = TrafficSignRecogniser.fit_generator(train_datagen, validation_data=val_datagen, epochs=20, verbose=100, callbacks=[es])"
   ]
  },
  {
   "cell_type": "code",
   "execution_count": 6,
   "id": "norman-engineering",
   "metadata": {
    "execution": {
     "iopub.execute_input": "2021-05-31T08:31:46.806206Z",
     "iopub.status.busy": "2021-05-31T08:31:46.805076Z",
     "iopub.status.idle": "2021-05-31T08:31:47.154685Z",
     "shell.execute_reply": "2021-05-31T08:31:47.155156Z"
    },
    "papermill": {
     "duration": 0.389694,
     "end_time": "2021-05-31T08:31:47.155316",
     "exception": false,
     "start_time": "2021-05-31T08:31:46.765622",
     "status": "completed"
    },
    "tags": []
   },
   "outputs": [
    {
     "name": "stderr",
     "output_type": "stream",
     "text": [
      "/opt/conda/lib/python3.7/site-packages/ipykernel_launcher.py:6: UserWarning: color is redundantly defined by the 'color' keyword argument and the fmt string \"b\" (-> color=(0.0, 0.0, 1.0, 1)). The keyword argument will take precedence.\n",
      "  \n"
     ]
    },
    {
     "data": {
      "image/png": "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\n",
      "text/plain": [
       "<Figure size 432x288 with 1 Axes>"
      ]
     },
     "metadata": {
      "needs_background": "light"
     },
     "output_type": "display_data"
    }
   ],
   "source": [
    "# Visualising loss curve"
    "history_dict = history.history\n",
    "train_acc = history_dict['loss']\n",
    "val_acc = history_dict['val_loss']\n",
    "epochs = range(1, len(history_dict['loss'])+1)\n",
    "plt.plot(epochs, train_acc,'b', label='Training error')\n",
    "plt.plot(epochs, val_acc,'b', color=\"orange\", label='Validation error')\n",
    "plt.title('Training and Validation error')\n",
    "plt.xlabel('Epochs')\n",
    "plt.ylabel('Error')\n",
    "plt.legend()\n",
    "plt.show()"
   ]
  },
  {
   "cell_type": "code",
   "execution_count": 7,
   "id": "perfect-seating",
   "metadata": {
    "execution": {
     "iopub.execute_input": "2021-05-31T08:31:47.191578Z",
     "iopub.status.busy": "2021-05-31T08:31:47.190139Z",
     "iopub.status.idle": "2021-05-31T08:31:48.989712Z",
     "shell.execute_reply": "2021-05-31T08:31:48.990232Z"
    },
    "papermill": {
     "duration": 1.819967,
     "end_time": "2021-05-31T08:31:48.990471",
     "exception": false,
     "start_time": "2021-05-31T08:31:47.170504",
     "status": "completed"
    },
    "tags": []
   },
   "outputs": [],
   "source": [
    "# Saving model"
    "save_model(TrafficSignRecogniser, \"TrafficSignRecogniser\")"
   ]
  }
 ],
 "metadata": {
  "kernelspec": {
   "display_name": "Python 3",
   "language": "python",
   "name": "python3"
  },
  "language_info": {
   "codemirror_mode": {
    "name": "ipython",
    "version": 3
   },
   "file_extension": ".py",
   "mimetype": "text/x-python",
   "name": "python",
   "nbconvert_exporter": "python",
   "pygments_lexer": "ipython3",
   "version": "3.7.10"
  },
  "papermill": {
   "default_parameters": {},
   "duration": 2246.418699,
   "end_time": "2021-05-31T08:31:51.833541",
   "environment_variables": {},
   "exception": null,
   "input_path": "__notebook__.ipynb",
   "output_path": "__notebook__.ipynb",
   "parameters": {},
   "start_time": "2021-05-31T07:54:25.414842",
   "version": "2.3.3"
  }
 },
 "nbformat": 4,
 "nbformat_minor": 5
}
